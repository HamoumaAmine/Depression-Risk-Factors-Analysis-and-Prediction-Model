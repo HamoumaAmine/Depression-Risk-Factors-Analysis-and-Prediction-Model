{
 "cells": [
  {
   "cell_type": "code",
   "execution_count": 332,
   "metadata": {},
   "outputs": [],
   "source": [
    "%run carbon_tracker.py"
   ]
  },
  {
   "cell_type": "code",
   "execution_count": 333,
   "metadata": {},
   "outputs": [],
   "source": [
    "import pandas as pd\n",
    "import numpy as np\n",
    "import matplotlib.pyplot as plt"
   ]
  },
  {
   "cell_type": "markdown",
   "metadata": {},
   "source": [
    "### Data"
   ]
  },
  {
   "cell_type": "code",
   "execution_count": 334,
   "metadata": {},
   "outputs": [
    {
     "name": "stderr",
     "output_type": "stream",
     "text": [
      "[codecarbon ERROR @ 10:33:10] You first need to start the tracker.\n"
     ]
    }
   ],
   "source": [
    "update_project_name(\"Pre-processing\")"
   ]
  },
  {
   "cell_type": "code",
   "execution_count": 335,
   "metadata": {},
   "outputs": [],
   "source": [
    "df = pd.read_csv(\"final_depression_dataset_1.csv\")"
   ]
  },
  {
   "cell_type": "code",
   "execution_count": 336,
   "metadata": {},
   "outputs": [
    {
     "data": {
      "text/html": [
       "<div>\n",
       "<style scoped>\n",
       "    .dataframe tbody tr th:only-of-type {\n",
       "        vertical-align: middle;\n",
       "    }\n",
       "\n",
       "    .dataframe tbody tr th {\n",
       "        vertical-align: top;\n",
       "    }\n",
       "\n",
       "    .dataframe thead th {\n",
       "        text-align: right;\n",
       "    }\n",
       "</style>\n",
       "<table border=\"1\" class=\"dataframe\">\n",
       "  <thead>\n",
       "    <tr style=\"text-align: right;\">\n",
       "      <th></th>\n",
       "      <th>Name</th>\n",
       "      <th>Gender</th>\n",
       "      <th>Age</th>\n",
       "      <th>City</th>\n",
       "      <th>Working Professional or Student</th>\n",
       "      <th>Profession</th>\n",
       "      <th>Academic Pressure</th>\n",
       "      <th>Work Pressure</th>\n",
       "      <th>CGPA</th>\n",
       "      <th>Study Satisfaction</th>\n",
       "      <th>Job Satisfaction</th>\n",
       "      <th>Sleep Duration</th>\n",
       "      <th>Dietary Habits</th>\n",
       "      <th>Degree</th>\n",
       "      <th>Have you ever had suicidal thoughts ?</th>\n",
       "      <th>Work/Study Hours</th>\n",
       "      <th>Financial Stress</th>\n",
       "      <th>Family History of Mental Illness</th>\n",
       "      <th>Depression</th>\n",
       "    </tr>\n",
       "  </thead>\n",
       "  <tbody>\n",
       "    <tr>\n",
       "      <th>0</th>\n",
       "      <td>Pooja</td>\n",
       "      <td>Female</td>\n",
       "      <td>37</td>\n",
       "      <td>Ghaziabad</td>\n",
       "      <td>Working Professional</td>\n",
       "      <td>Teacher</td>\n",
       "      <td>NaN</td>\n",
       "      <td>2.0</td>\n",
       "      <td>NaN</td>\n",
       "      <td>NaN</td>\n",
       "      <td>4.0</td>\n",
       "      <td>7-8 hours</td>\n",
       "      <td>Moderate</td>\n",
       "      <td>MA</td>\n",
       "      <td>No</td>\n",
       "      <td>6</td>\n",
       "      <td>2</td>\n",
       "      <td>No</td>\n",
       "      <td>No</td>\n",
       "    </tr>\n",
       "    <tr>\n",
       "      <th>1</th>\n",
       "      <td>Reyansh</td>\n",
       "      <td>Male</td>\n",
       "      <td>60</td>\n",
       "      <td>Kalyan</td>\n",
       "      <td>Working Professional</td>\n",
       "      <td>Financial Analyst</td>\n",
       "      <td>NaN</td>\n",
       "      <td>4.0</td>\n",
       "      <td>NaN</td>\n",
       "      <td>NaN</td>\n",
       "      <td>3.0</td>\n",
       "      <td>5-6 hours</td>\n",
       "      <td>Unhealthy</td>\n",
       "      <td>B.Com</td>\n",
       "      <td>Yes</td>\n",
       "      <td>0</td>\n",
       "      <td>4</td>\n",
       "      <td>Yes</td>\n",
       "      <td>No</td>\n",
       "    </tr>\n",
       "    <tr>\n",
       "      <th>2</th>\n",
       "      <td>Manvi</td>\n",
       "      <td>Female</td>\n",
       "      <td>42</td>\n",
       "      <td>Bhopal</td>\n",
       "      <td>Working Professional</td>\n",
       "      <td>Teacher</td>\n",
       "      <td>NaN</td>\n",
       "      <td>2.0</td>\n",
       "      <td>NaN</td>\n",
       "      <td>NaN</td>\n",
       "      <td>3.0</td>\n",
       "      <td>5-6 hours</td>\n",
       "      <td>Moderate</td>\n",
       "      <td>M.Com</td>\n",
       "      <td>No</td>\n",
       "      <td>0</td>\n",
       "      <td>2</td>\n",
       "      <td>No</td>\n",
       "      <td>No</td>\n",
       "    </tr>\n",
       "    <tr>\n",
       "      <th>3</th>\n",
       "      <td>Isha</td>\n",
       "      <td>Female</td>\n",
       "      <td>44</td>\n",
       "      <td>Thane</td>\n",
       "      <td>Working Professional</td>\n",
       "      <td>Teacher</td>\n",
       "      <td>NaN</td>\n",
       "      <td>3.0</td>\n",
       "      <td>NaN</td>\n",
       "      <td>NaN</td>\n",
       "      <td>5.0</td>\n",
       "      <td>7-8 hours</td>\n",
       "      <td>Healthy</td>\n",
       "      <td>MD</td>\n",
       "      <td>Yes</td>\n",
       "      <td>1</td>\n",
       "      <td>2</td>\n",
       "      <td>Yes</td>\n",
       "      <td>No</td>\n",
       "    </tr>\n",
       "    <tr>\n",
       "      <th>4</th>\n",
       "      <td>Aarav</td>\n",
       "      <td>Male</td>\n",
       "      <td>48</td>\n",
       "      <td>Indore</td>\n",
       "      <td>Working Professional</td>\n",
       "      <td>UX/UI Designer</td>\n",
       "      <td>NaN</td>\n",
       "      <td>4.0</td>\n",
       "      <td>NaN</td>\n",
       "      <td>NaN</td>\n",
       "      <td>3.0</td>\n",
       "      <td>7-8 hours</td>\n",
       "      <td>Moderate</td>\n",
       "      <td>BE</td>\n",
       "      <td>Yes</td>\n",
       "      <td>6</td>\n",
       "      <td>5</td>\n",
       "      <td>Yes</td>\n",
       "      <td>No</td>\n",
       "    </tr>\n",
       "  </tbody>\n",
       "</table>\n",
       "</div>"
      ],
      "text/plain": [
       "      Name  Gender  Age       City Working Professional or Student  \\\n",
       "0    Pooja  Female   37  Ghaziabad            Working Professional   \n",
       "1  Reyansh    Male   60     Kalyan            Working Professional   \n",
       "2    Manvi  Female   42     Bhopal            Working Professional   \n",
       "3     Isha  Female   44      Thane            Working Professional   \n",
       "4    Aarav    Male   48     Indore            Working Professional   \n",
       "\n",
       "          Profession  Academic Pressure  Work Pressure  CGPA  \\\n",
       "0            Teacher                NaN            2.0   NaN   \n",
       "1  Financial Analyst                NaN            4.0   NaN   \n",
       "2            Teacher                NaN            2.0   NaN   \n",
       "3            Teacher                NaN            3.0   NaN   \n",
       "4     UX/UI Designer                NaN            4.0   NaN   \n",
       "\n",
       "   Study Satisfaction  Job Satisfaction Sleep Duration Dietary Habits Degree  \\\n",
       "0                 NaN               4.0      7-8 hours       Moderate     MA   \n",
       "1                 NaN               3.0      5-6 hours      Unhealthy  B.Com   \n",
       "2                 NaN               3.0      5-6 hours       Moderate  M.Com   \n",
       "3                 NaN               5.0      7-8 hours        Healthy     MD   \n",
       "4                 NaN               3.0      7-8 hours       Moderate     BE   \n",
       "\n",
       "  Have you ever had suicidal thoughts ?  Work/Study Hours  Financial Stress  \\\n",
       "0                                    No                 6                 2   \n",
       "1                                   Yes                 0                 4   \n",
       "2                                    No                 0                 2   \n",
       "3                                   Yes                 1                 2   \n",
       "4                                   Yes                 6                 5   \n",
       "\n",
       "  Family History of Mental Illness Depression  \n",
       "0                               No         No  \n",
       "1                              Yes         No  \n",
       "2                               No         No  \n",
       "3                              Yes         No  \n",
       "4                              Yes         No  "
      ]
     },
     "execution_count": 336,
     "metadata": {},
     "output_type": "execute_result"
    }
   ],
   "source": [
    "df.head()"
   ]
  },
  {
   "cell_type": "code",
   "execution_count": 337,
   "metadata": {},
   "outputs": [
    {
     "name": "stdout",
     "output_type": "stream",
     "text": [
      "2556\n"
     ]
    }
   ],
   "source": [
    "print(len(df))"
   ]
  },
  {
   "cell_type": "code",
   "execution_count": 338,
   "metadata": {},
   "outputs": [
    {
     "name": "stdout",
     "output_type": "stream",
     "text": [
      "0\n"
     ]
    }
   ],
   "source": [
    "empty_rows = df.isnull().all(axis=1).sum()\n",
    "print (empty_rows)"
   ]
  },
  {
   "cell_type": "code",
   "execution_count": 339,
   "metadata": {},
   "outputs": [
    {
     "name": "stdout",
     "output_type": "stream",
     "text": [
      "0\n"
     ]
    }
   ],
   "source": [
    "numeric_columns = ['Age', 'Academic Pressure', 'Work Pressure', 'CGPA', \n",
    "                   'Job Satisfaction', 'Work/Study Hours', 'Financial Stress']\n",
    "\n",
    "# Vérifier les valeurs négatives uniquement dans les colonnes numériques\n",
    "negative_rows = (df[numeric_columns] < 0).any(axis=1).sum()\n",
    "\n",
    "print(negative_rows)\n"
   ]
  },
  {
   "cell_type": "code",
   "execution_count": 340,
   "metadata": {},
   "outputs": [
    {
     "name": "stdout",
     "output_type": "stream",
     "text": [
      "Name                                      object\n",
      "Gender                                    object\n",
      "Age                                        int64\n",
      "City                                      object\n",
      "Working Professional or Student           object\n",
      "Profession                                object\n",
      "Academic Pressure                        float64\n",
      "Work Pressure                            float64\n",
      "CGPA                                     float64\n",
      "Study Satisfaction                       float64\n",
      "Job Satisfaction                         float64\n",
      "Sleep Duration                            object\n",
      "Dietary Habits                            object\n",
      "Degree                                    object\n",
      "Have you ever had suicidal thoughts ?     object\n",
      "Work/Study Hours                           int64\n",
      "Financial Stress                           int64\n",
      "Family History of Mental Illness          object\n",
      "Depression                                object\n",
      "dtype: object\n"
     ]
    }
   ],
   "source": [
    "print(df.dtypes)"
   ]
  },
  {
   "cell_type": "code",
   "execution_count": 341,
   "metadata": {},
   "outputs": [
    {
     "name": "stdout",
     "output_type": "stream",
     "text": [
      "Name                                        0\n",
      "Gender                                      0\n",
      "Age                                         0\n",
      "City                                        0\n",
      "Working Professional or Student             0\n",
      "Profession                                673\n",
      "Academic Pressure                        2054\n",
      "Work Pressure                             502\n",
      "CGPA                                     2054\n",
      "Study Satisfaction                       2054\n",
      "Job Satisfaction                          502\n",
      "Sleep Duration                              0\n",
      "Dietary Habits                              0\n",
      "Degree                                      0\n",
      "Have you ever had suicidal thoughts ?       0\n",
      "Work/Study Hours                            0\n",
      "Financial Stress                            0\n",
      "Family History of Mental Illness            0\n",
      "Depression                                  0\n",
      "dtype: int64\n"
     ]
    }
   ],
   "source": [
    "print(df.isna().sum())\n"
   ]
  },
  {
   "cell_type": "code",
   "execution_count": 342,
   "metadata": {},
   "outputs": [
    {
     "name": "stdout",
     "output_type": "stream",
     "text": [
      "['Female' 'Male']\n"
     ]
    }
   ],
   "source": [
    "print(df['Gender'].unique())\n"
   ]
  },
  {
   "cell_type": "code",
   "execution_count": 343,
   "metadata": {},
   "outputs": [
    {
     "name": "stdout",
     "output_type": "stream",
     "text": [
      "[37 60 42 44 48 30 56 35 21 57 54 51 18 31 28 58 47 50 46 38 25 45 23 53\n",
      " 19 34 49 20 43 22 33 36 24 41 29 27 52 26 59 55 40 32 39]\n"
     ]
    }
   ],
   "source": [
    "print(df['Age'].unique())\n"
   ]
  },
  {
   "cell_type": "code",
   "execution_count": 344,
   "metadata": {},
   "outputs": [
    {
     "name": "stdout",
     "output_type": "stream",
     "text": [
      "[2 4 5 3 1]\n"
     ]
    }
   ],
   "source": [
    "print(df['Financial Stress'].unique())\n"
   ]
  },
  {
   "cell_type": "code",
   "execution_count": 345,
   "metadata": {},
   "outputs": [
    {
     "name": "stdout",
     "output_type": "stream",
     "text": [
      "[ 6  0  1 12  3 11 10  8  7  9  5  2  4]\n"
     ]
    }
   ],
   "source": [
    "print(df['Work/Study Hours'].unique())\n"
   ]
  },
  {
   "cell_type": "code",
   "execution_count": 346,
   "metadata": {},
   "outputs": [
    {
     "name": "stdout",
     "output_type": "stream",
     "text": [
      "['MA' 'B.Com' 'M.Com' 'MD' 'BE' 'MCA' 'BA' 'LLM' 'BCA' 'Class 12' 'B.Ed'\n",
      " 'M.Tech' 'LLB' 'B.Arch' 'ME' 'MBA' 'M.Pharm' 'MBBS' 'PhD' 'BSc' 'MSc'\n",
      " 'MHM' 'BBA' 'BHM' 'B.Tech' 'M.Ed' 'B.Pharm']\n"
     ]
    }
   ],
   "source": [
    "print(df['Degree'].unique())\n"
   ]
  },
  {
   "cell_type": "code",
   "execution_count": 347,
   "metadata": {},
   "outputs": [
    {
     "name": "stdout",
     "output_type": "stream",
     "text": [
      "['Moderate' 'Unhealthy' 'Healthy']\n"
     ]
    }
   ],
   "source": [
    "print(df['Dietary Habits'].unique())\n"
   ]
  },
  {
   "cell_type": "code",
   "execution_count": 348,
   "metadata": {},
   "outputs": [
    {
     "name": "stdout",
     "output_type": "stream",
     "text": [
      "['No' 'Yes']\n"
     ]
    }
   ],
   "source": [
    "print(df['Depression'].unique())\n"
   ]
  },
  {
   "cell_type": "code",
   "execution_count": 349,
   "metadata": {},
   "outputs": [
    {
     "name": "stdout",
     "output_type": "stream",
     "text": [
      "['No' 'Yes']\n"
     ]
    }
   ],
   "source": [
    "print(df['Family History of Mental Illness'].unique())"
   ]
  },
  {
   "cell_type": "code",
   "execution_count": 350,
   "metadata": {},
   "outputs": [
    {
     "name": "stdout",
     "output_type": "stream",
     "text": [
      "['7-8 hours' '5-6 hours' 'More than 8 hours' 'Less than 5 hours']\n"
     ]
    }
   ],
   "source": [
    "print(df['Sleep Duration'].unique())"
   ]
  },
  {
   "cell_type": "code",
   "execution_count": 351,
   "metadata": {},
   "outputs": [
    {
     "name": "stdout",
     "output_type": "stream",
     "text": [
      "['Working Professional' 'Student']\n"
     ]
    }
   ],
   "source": [
    "print(df['Working Professional or Student'].unique())\t"
   ]
  },
  {
   "cell_type": "code",
   "execution_count": 352,
   "metadata": {},
   "outputs": [
    {
     "name": "stdout",
     "output_type": "stream",
     "text": [
      "5.03\n",
      "10.0\n",
      "Nombre de CGPA < 5 : 0\n",
      "Nombre de CGPA > 5 : 502\n"
     ]
    }
   ],
   "source": [
    "#Cumulative Grade Point Average(CGPA)\n",
    "print(df['CGPA'].min())\t\n",
    "print(df['CGPA'].max())\t\n",
    "\n",
    "# Compter les valeurs de CGPA < 5\n",
    "count_less_than_5 = (df['CGPA'] < 5).sum()\n",
    "print(f\"Nombre de CGPA < 5 : {count_less_than_5}\")\n",
    "\n",
    "# Compter les valeurs de CGPA > 5\n",
    "count_greater_than_5 = (df['CGPA'] > 5).sum()\n",
    "print(f\"Nombre de CGPA > 5 : {count_greater_than_5}\")"
   ]
  },
  {
   "cell_type": "code",
   "execution_count": 353,
   "metadata": {},
   "outputs": [],
   "source": [
    "df['CGPA'].fillna(df['CGPA'].median(), inplace=True)"
   ]
  },
  {
   "cell_type": "code",
   "execution_count": 354,
   "metadata": {},
   "outputs": [
    {
     "name": "stdout",
     "output_type": "stream",
     "text": [
      "[7.5 5.5 9.  4. ]\n"
     ]
    }
   ],
   "source": [
    "# Dictionnaire de conversion des valeurs textuelles en nombres\n",
    "sleep_mapping = {\n",
    "    'More than 8 hours': 9,  \n",
    "    '5-6 hours': 5.5,        \n",
    "    'Less than 5 hours': 4, \n",
    "    '7-8 hours': 7.5,        \n",
    "    '6-7 hours': 6.5         \n",
    "}\n",
    "\n",
    "# Remplacement des valeurs dans la colonne Sleep Duration\n",
    "df['Sleep Duration'] = df['Sleep Duration'].map(sleep_mapping)\n",
    "\n",
    "# Vérification des valeurs uniques après conversion\n",
    "print(df['Sleep Duration'].unique())\n"
   ]
  },
  {
   "cell_type": "code",
   "execution_count": 355,
   "metadata": {},
   "outputs": [],
   "source": [
    "df['Profession'].fillna('None', inplace=True)"
   ]
  },
  {
   "cell_type": "code",
   "execution_count": 364,
   "metadata": {},
   "outputs": [
    {
     "name": "stdout",
     "output_type": "stream",
     "text": [
      "[3. 2. 4. 1. 5.]\n"
     ]
    }
   ],
   "source": [
    "print(df['Academic Pressure'].unique())\t"
   ]
  },
  {
   "cell_type": "code",
   "execution_count": null,
   "metadata": {},
   "outputs": [],
   "source": [
    "print(df['Work Pressure'].unique())\t"
   ]
  },
  {
   "cell_type": "code",
   "execution_count": 356,
   "metadata": {},
   "outputs": [],
   "source": [
    "df['Academic Pressure'].fillna(df['Academic Pressure'].median(), inplace=True)"
   ]
  },
  {
   "cell_type": "code",
   "execution_count": 357,
   "metadata": {},
   "outputs": [],
   "source": [
    "df['Work Pressure'].fillna(df['Work Pressure'].median(), inplace=True)"
   ]
  },
  {
   "cell_type": "code",
   "execution_count": 358,
   "metadata": {},
   "outputs": [
    {
     "name": "stdout",
     "output_type": "stream",
     "text": [
      "[nan  4.  5.  3.  2.  1.]\n"
     ]
    }
   ],
   "source": [
    "print(df['Study Satisfaction'].unique())\t"
   ]
  },
  {
   "cell_type": "code",
   "execution_count": 360,
   "metadata": {},
   "outputs": [
    {
     "name": "stdout",
     "output_type": "stream",
     "text": [
      "[ 4.  3.  5.  2.  1. nan]\n"
     ]
    }
   ],
   "source": [
    "print(df['Job Satisfaction'].unique())\t"
   ]
  },
  {
   "cell_type": "code",
   "execution_count": null,
   "metadata": {},
   "outputs": [],
   "source": [
    "# Séparer les données en deux groupes : \"Yes\" et \"No\" dans la colonne 'Depression'\n",
    "depression_yes = df[df['Depression'] == 'Yes']\n",
    "depression_no = df[df['Depression'] == 'No']\n",
    "\n",
    "# Calculer la médiane pour chaque groupe pour les colonnes concernées\n",
    "medians_yes = depression_yes[['Job Satisfaction', 'Study Satisfaction', 'Work Pressure', 'Academic Pressure']].median()\n",
    "medians_no = depression_no[['Job Satisfaction', 'Study Satisfaction', 'Work Pressure', 'Academic Pressure']].median()\n",
    "\n",
    "# Imputer les valeurs manquantes dans le DataFrame original\n",
    "for col in ['Job Satisfaction', 'Study Satisfaction', 'Work Pressure', 'Academic Pressure']:\n",
    "    # Imputer pour le groupe \"Yes\"\n",
    "    df.loc[(df['Depression'] == 'Yes') & (df[col].isnull()), col] = medians_yes[col]\n",
    "    \n",
    "    # Imputer pour le groupe \"No\"\n",
    "    df.loc[(df['Depression'] == 'No') & (df[col].isnull()), col] = medians_no[col]\n"
   ]
  },
  {
   "cell_type": "code",
   "execution_count": 362,
   "metadata": {},
   "outputs": [
    {
     "name": "stdout",
     "output_type": "stream",
     "text": [
      "Name                                     0\n",
      "Gender                                   0\n",
      "Age                                      0\n",
      "City                                     0\n",
      "Working Professional or Student          0\n",
      "Profession                               0\n",
      "Academic Pressure                        0\n",
      "Work Pressure                            0\n",
      "CGPA                                     0\n",
      "Study Satisfaction                       0\n",
      "Job Satisfaction                         0\n",
      "Sleep Duration                           0\n",
      "Dietary Habits                           0\n",
      "Degree                                   0\n",
      "Have you ever had suicidal thoughts ?    0\n",
      "Work/Study Hours                         0\n",
      "Financial Stress                         0\n",
      "Family History of Mental Illness         0\n",
      "Depression                               0\n",
      "dtype: int64\n"
     ]
    }
   ],
   "source": [
    "print(df.isna().sum())"
   ]
  },
  {
   "cell_type": "markdown",
   "metadata": {},
   "source": [
    "### Visualisation"
   ]
  },
  {
   "cell_type": "code",
   "execution_count": 363,
   "metadata": {},
   "outputs": [],
   "source": [
    "stop_tracker()"
   ]
  }
 ],
 "metadata": {
  "kernelspec": {
   "display_name": "Python 3",
   "language": "python",
   "name": "python3"
  },
  "language_info": {
   "codemirror_mode": {
    "name": "ipython",
    "version": 3
   },
   "file_extension": ".py",
   "mimetype": "text/x-python",
   "name": "python",
   "nbconvert_exporter": "python",
   "pygments_lexer": "ipython3",
   "version": "3.11.5"
  }
 },
 "nbformat": 4,
 "nbformat_minor": 2
}
